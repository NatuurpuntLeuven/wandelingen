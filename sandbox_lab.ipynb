{
 "cells": [
  {
   "cell_type": "code",
   "execution_count": 1,
   "id": "34c543bb-15cd-41e2-a2b9-674900b55e95",
   "metadata": {},
   "outputs": [],
   "source": [
    "import solara\n",
    "import folium\n",
    "\n",
    "# from ipywidgets import Button, VBox, HBox, Layout, HTML\n",
    "# import ipyleaflet as ipyl\n",
    "# from branca.element import Figure"
   ]
  },
  {
   "cell_type": "code",
   "execution_count": 3,
   "id": "d11dcba7-ea00-4b66-868a-f2fd313d229e",
   "metadata": {},
   "outputs": [
    {
     "data": {
      "application/vnd.jupyter.widget-view+json": {
       "model_id": "39decbeac9a046158d2bfa1de609b824",
       "version_major": 2,
       "version_minor": 0
      },
      "text/plain": [
       "VBox(children=(HBox(children=(HTML(value=\"<img src='data/logo/logo_leuven.png' alt='Logo' style='width:200px;'…"
      ]
     },
     "execution_count": 3,
     "metadata": {},
     "output_type": "execute_result"
    }
   ],
   "source": [
    "# Maak knoppen voor het downloaden van kaarten en GPX-bestanden\n",
    "download_kaart_button = Button(description=\"Download kaart\", button_style=\"success\")\n",
    "download_gpx_button = Button(description=\"Download GPX\", button_style=\"info\")\n",
    "\n",
    "\n",
    "# Definieer de actie die moet gebeuren wanneer de knoppen worden ingedrukt\n",
    "def download_kaart_clicked(b):\n",
    "    # Voeg hier de functionaliteit toe om de kaart te downloaden\n",
    "    pass\n",
    "\n",
    "\n",
    "def download_gpx_clicked(b):\n",
    "    # Voeg hier de functionaliteit toe om de GPX te downloaden\n",
    "    pass\n",
    "\n",
    "\n",
    "# Voeg event listeners toe aan de knoppen\n",
    "download_kaart_button.on_click(download_kaart_clicked)\n",
    "download_gpx_button.on_click(download_gpx_clicked)\n",
    "\n",
    "# Maak een Leaflet kaart met ipyleaflet\n",
    "m = ipyl.Map(center=(50.879, 4.6997), zoom=15)\n",
    "\n",
    "# Maak placeholders voor het logo en de titel als ipywidgets HTML widgets\n",
    "logo_html = \"<img src='data/logo/logo_leuven.png' alt='Logo' style='width:200px;'>\"\n",
    "title_html = \"<h1>Wandelingen in de Natuurgebieden van Leuven</h1>\"\n",
    "\n",
    "logo_placeholder = HTML(value=logo_html)\n",
    "title_placeholder = HTML(value=title_html)\n",
    "\n",
    "# Maak een VBox voor de hoofdlay-out met ipywidgets\n",
    "main_layout = VBox(\n",
    "    [\n",
    "        HBox([logo_placeholder, title_placeholder]),  # Header\n",
    "        HBox([download_kaart_button, download_gpx_button]),  # Download buttons\n",
    "        m,  # Kaart\n",
    "    ]\n",
    ")\n",
    "\n",
    "# Toon de lay-out\n",
    "main_layout"
   ]
  },
  {
   "cell_type": "markdown",
   "id": "9144bb6d",
   "metadata": {},
   "source": [
    "## Voorbeeld volledig uitgewerkt met ipywidgets"
   ]
  },
  {
   "cell_type": "code",
   "execution_count": 15,
   "id": "28a9a54f-f072-44c6-96da-e51b1340f320",
   "metadata": {},
   "outputs": [
    {
     "data": {
      "application/vnd.jupyter.widget-view+json": {
       "model_id": "61be289633884af79299367d07b6d78d",
       "version_major": 2,
       "version_minor": 0
      },
      "text/plain": [
       "VBox(children=(HBox(children=(Image(value=b'\\x89PNG\\r\\n\\x1a\\n\\x00\\x00\\x00\\rIHDR\\x00\\x00\\x00\\xfd\\x00\\x00\\x00K\\x…"
      ]
     },
     "execution_count": 15,
     "metadata": {},
     "output_type": "execute_result"
    }
   ],
   "source": [
    "from ipywidgets import Button, VBox, HBox, Image, Label\n",
    "import ipyleaflet as ipyl\n",
    "\n",
    "# Pad naar het logo instellen\n",
    "logo_path = \"data/logo/logo_leuven.png\"\n",
    "\n",
    "# Maak knoppen voor het downloaden van kaarten en GPX-bestanden\n",
    "download_kaart_button = Button(description=\"Download kaart\", button_style=\"success\")\n",
    "download_gpx_button = Button(description=\"Download GPX\", button_style=\"info\")\n",
    "\n",
    "\n",
    "# Event handlers voor de knoppen\n",
    "def download_kaart_clicked(b):\n",
    "    # Voeg hier de functionaliteit toe om de kaart te downloaden\n",
    "    pass\n",
    "\n",
    "\n",
    "def download_gpx_clicked(b):\n",
    "    # Voeg hier de functionaliteit toe om de GPX te downloaden\n",
    "    pass\n",
    "\n",
    "\n",
    "# Voeg event listeners toe aan de knoppen\n",
    "download_kaart_button.on_click(download_kaart_clicked)\n",
    "download_gpx_button.on_click(download_gpx_clicked)\n",
    "\n",
    "# Maak een Leaflet kaart met ipyleaflet\n",
    "m = ipyl.Map(center=(50.879, 4.6997), zoom=12)\n",
    "\n",
    "# Stel layout opties in voor marges\n",
    "logo_layout = Layout(\n",
    "    margin=\"0px 10px 0px 0px\"\n",
    ")  # 10px ruimte aan de rechterkant van het logo\n",
    "title_layout = Layout(\n",
    "    margin=\"0px 0px 0px 10px\"\n",
    ")  # 10px ruimte aan de linkerkant van de titel\n",
    "\n",
    "# Maak widgets voor het logo en de titel\n",
    "logo_widget = Image(value=open(logo_path, \"rb\").read(), format=\"png\", width=200)\n",
    "title_widget = Label(\n",
    "    value=\"Wandelingen in de Natuurgebieden van Leuven\",\n",
    "    style={\"font_weight\": \"bold\", \"font_size\": \"28px\"},\n",
    ")\n",
    "\n",
    "# Pas de layout toe op de widgets\n",
    "logo_widget.layout = logo_layout\n",
    "title_widget.layout = title_layout\n",
    "\n",
    "# Maak een VBox voor de hoofdlay-out met ipywidgets\n",
    "main_layout = VBox(\n",
    "    [\n",
    "        HBox([logo_widget, title_widget]),  # Header\n",
    "        HBox([download_kaart_button, download_gpx_button]),  # Download buttons\n",
    "        m,  # Kaart\n",
    "    ]\n",
    ")\n",
    "\n",
    "# Toon de lay-out\n",
    "main_layout"
   ]
  },
  {
   "cell_type": "markdown",
   "id": "0033609f",
   "metadata": {},
   "source": [
    "## Volgende een voorbeeld van Solara"
   ]
  },
  {
   "cell_type": "code",
   "execution_count": 16,
   "metadata": {},
   "outputs": [
    {
     "data": {
      "application/vnd.jupyter.widget-view+json": {
       "model_id": "9f910b567cd94e2f92dd5c05c4876d2f",
       "version_major": 2,
       "version_minor": 0
      },
      "text/html": [
       "Cannot show widget. You probably want to rerun the code cell above (<i>Click in the code cell, and press Shift+Enter <kbd>⇧</kbd>+<kbd>↩</kbd></i>)."
      ],
      "text/plain": [
       "Cannot show ipywidgets in text"
      ]
     },
     "metadata": {},
     "output_type": "display_data"
    }
   ],
   "source": [
    "import solara\n",
    "\n",
    "# Declare reactive variables at the top level. Components using these variables\n",
    "# will be re-executed when their values change.\n",
    "sentence = solara.reactive(\"Solara makes our team more productive.\")\n",
    "word_limit = solara.reactive(10)\n",
    "\n",
    "\n",
    "@solara.component\n",
    "def Page():\n",
    "    # Calculate word_count within the component to ensure re-execution when reactive variables change.\n",
    "    word_count = len(sentence.value.split())\n",
    "\n",
    "    solara.SliderInt(\"Word limit\", value=word_limit, min=2, max=20)\n",
    "    solara.InputText(label=\"Your sentence\", value=sentence, continuous_update=True)\n",
    "\n",
    "    # Display messages based on the current word count and word limit.\n",
    "    if word_count >= int(word_limit.value):\n",
    "        solara.Error(\n",
    "            f\"With {word_count} words, you passed the word limit of {word_limit.value}.\"\n",
    "        )\n",
    "    elif word_count >= int(0.8 * word_limit.value):\n",
    "        solara.Warning(\n",
    "            f\"With {word_count} words, you are close to the word limit of {word_limit.value}.\"\n",
    "        )\n",
    "    else:\n",
    "        solara.Success(\"Great short writing!\")\n",
    "\n",
    "\n",
    "# The following line is required only when running the code in a Jupyter notebook:\n",
    "Page()"
   ]
  },
  {
   "cell_type": "code",
   "execution_count": null,
   "id": "cc807672",
   "metadata": {},
   "outputs": [],
   "source": []
  }
 ],
 "metadata": {
  "kernelspec": {
   "display_name": "Python 3 (ipykernel)",
   "language": "python",
   "name": "python3"
  },
  "language_info": {
   "codemirror_mode": {
    "name": "ipython",
    "version": 3
   },
   "file_extension": ".py",
   "mimetype": "text/x-python",
   "name": "python",
   "nbconvert_exporter": "python",
   "pygments_lexer": "ipython3",
   "version": "3.10.13"
  }
 },
 "nbformat": 4,
 "nbformat_minor": 5
}
